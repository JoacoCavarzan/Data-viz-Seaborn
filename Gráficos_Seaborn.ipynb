{
  "nbformat": 4,
  "nbformat_minor": 0,
  "metadata": {
    "colab": {
      "provenance": [],
      "authorship_tag": "ABX9TyO1ZGgMyaEbdpHtKZF9UoCa",
      "include_colab_link": true
    },
    "kernelspec": {
      "name": "python3",
      "display_name": "Python 3"
    },
    "language_info": {
      "name": "python"
    }
  },
  "cells": [
    {
      "cell_type": "markdown",
      "metadata": {
        "id": "view-in-github",
        "colab_type": "text"
      },
      "source": [
        "<a href=\"https://colab.research.google.com/github/JoacoCavarzan/machine-learning/blob/main/Gr%C3%A1ficos_Seaborn.ipynb\" target=\"_parent\"><img src=\"https://colab.research.google.com/assets/colab-badge.svg\" alt=\"Open In Colab\"/></a>"
      ]
    },
    {
      "cell_type": "markdown",
      "source": [
        "# Gráficos con python - Seaborn"
      ],
      "metadata": {
        "id": "oIMdh5dUd9M8"
      }
    },
    {
      "cell_type": "code",
      "execution_count": null,
      "metadata": {
        "id": "r4dDbZN_5NRz"
      },
      "outputs": [],
      "source": [
        "#Importar numpy, pandas, seaborn, matplotlib\n",
        "\n",
        "import numpy as np\n",
        "import pandas as pd\n",
        "import seaborn as sns\n",
        "import matplotlib.pyplot as plt\n"
      ]
    },
    {
      "cell_type": "markdown",
      "source": [
        "Consideramos una lista de las temperatutas máximas durante una semana. Para ello definimos dos listas:"
      ],
      "metadata": {
        "id": "k26XXDILeZKP"
      }
    },
    {
      "cell_type": "code",
      "source": [
        "#Datos de temperatura durante una semana (en grados Celsius)\n",
        "\n",
        "dias_semana = ['Lunes', 'Martes', 'Miércoles', 'Jueves', 'Viernes', 'Sábado', 'Domingo']\n",
        "temperaturas = [25, 26, 27, 28, 27, 26, 24]\n"
      ],
      "metadata": {
        "id": "7pNQYrLNevsm"
      },
      "execution_count": null,
      "outputs": []
    }
  ]
}